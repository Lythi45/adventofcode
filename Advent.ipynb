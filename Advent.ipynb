{
 "cells": [
  {
   "cell_type": "code",
   "execution_count": 59,
   "metadata": {
    "collapsed": false
   },
   "outputs": [
    {
     "name": "stdout",
     "output_type": "stream",
     "text": [
      "1034\n",
      "1356\n",
      "21845\n",
      "191.0\n",
      "295\n",
      "590\n",
      "1069\n",
      "480\n"
     ]
    }
   ],
   "source": [
    "import math\n",
    "\n",
    "text=\"428122498997587283996116951397957933569136949848379417125362532269869461185743113733992331379856446362482129646556286611543756564275715359874924898113424472782974789464348626278532936228881786273586278886575828239366794429223317476722337424399239986153675275924113322561873814364451339186918813451685263192891627186769818128715595715444565444581514677521874935942913547121751851631373316122491471564697731298951989511917272684335463436218283261962158671266625299188764589814518793576375629163896349665312991285776595142146261792244475721782941364787968924537841698538288459355159783985638187254653851864874544584878999193242641611859756728634623853475638478923744471563845635468173824196684361934269459459124269196811512927442662761563824323621758785866391424778683599179447845595931928589255935953295111937431266815352781399967295389339626178664148415561175386725992469782888757942558362117938629369129439717427474416851628121191639355646394276451847131182652486561415942815818785884559193483878139351841633366398788657844396925423217662517356486193821341454889283266691224778723833397914224396722559593959125317175899594685524852419495793389481831354787287452367145661829287518771631939314683137722493531318181315216342994141683484111969476952946378314883421677952397588613562958741328987734565492378977396431481215983656814486518865642645612413945129485464979535991675776338786758997128124651311153182816188924935186361813797251997643992686294724699281969473142721116432968216434977684138184481963845141486793996476793954226225885432422654394439882842163295458549755137247614338991879966665925466545111899714943716571113326479432925939227996799951279485722836754457737668191845914566732285928453781818792236447816127492445993945894435692799839217467253986218213131249786833333936332257795191937942688668182629489191693154184177398186462481316834678733713614889439352976144726162214648922159719979143735815478633912633185334529484779322818611438194522292278787653763328944421516569181178517915745625295158611636365253948455727653672922299582352766484\"\n",
    "sum=0\n",
    "l=len(text)\n",
    "for i, c in enumerate(text):\n",
    "    if (text[i]==text[(i+1)%len(text)]):\n",
    "        sum+=ord(text[i])-48\n",
    "print (sum)\n",
    "sum=0\n",
    "for i, c in enumerate(text):\n",
    "    if (text[i]==text[(i+int(l/2))%l]):\n",
    "        sum+=ord(text[i])-48\n",
    "print (sum)\n",
    "\n",
    "f=open(\"tabelle.txt\",'r')\n",
    "\n",
    "sum=0\n",
    "for line in f:\n",
    "    liste = line.split()\n",
    "    liste=list(map(int,liste))\n",
    "    sum=sum+max(liste)-min(liste)\n",
    "print (sum)\n",
    "\n",
    "sum=0\n",
    "\n",
    "f=open(\"tabelle.txt\",'r')\n",
    "\n",
    "for line in f:\n",
    "    liste = line.split()\n",
    "    liste=list(map(int,liste))\n",
    "    for elem1 in liste:\n",
    "        for elem2 in liste:\n",
    "            if elem1%elem2==0 and elem1!=elem2:\n",
    "                sum+=elem1/elem2\n",
    "\n",
    "print (sum)\n",
    "    \n",
    "num=347991\n",
    "\n",
    "dist=int((math.sqrt(num-1)+1)/2)\n",
    "side_len=dist*2\n",
    "outer_pos=num-(dist*2-1)*(dist*2-1)-1\n",
    "\n",
    "print(dist)\n",
    "print(side_len)\n",
    "print(outer_pos)\n",
    "\n",
    "man_dist=dist+abs(outer_pos%side_len-dist+1)\n",
    "\n",
    "print(man_dist)\n"
   ]
  },
  {
   "cell_type": "code",
   "execution_count": 17,
   "metadata": {
    "collapsed": false
   },
   "outputs": [
    {
     "name": "stdout",
     "output_type": "stream",
     "text": [
      "349975\n",
      "-185 295 480\n"
     ]
    }
   ],
   "source": [
    "#Erster Teil von Tag 3\n",
    "num=347991\n",
    "dict={'0=0':1}\n",
    "xf=[lambda x: x,lambda x: x-1,lambda x: x,lambda x: x+1]\n",
    "yf=[lambda x: x+1,lambda x: x,lambda x: x-1,lambda x: x]\n",
    "x=0\n",
    "y=0\n",
    "\n",
    "def w(x,y):\n",
    "    return dict.get(str(x)+'='+str(y),0)\n",
    "def store(w,x,y):\n",
    "    dict[str(x)+'='+str(y)]=w\n",
    "    \n",
    "class GetOutOfLoop( Exception ):\n",
    "    pass\n",
    "\n",
    "\n",
    "#zweite Teil von Tag 3\n",
    "windung=0\n",
    "\n",
    "try:\n",
    "    while(True):\n",
    "        windung+=1\n",
    "        x+=1\n",
    "        y-=1\n",
    "        for seite in range(4):\n",
    "            for i in range(windung*2):\n",
    "                x=xf[seite](x)\n",
    "                y=yf[seite](y)\n",
    "                #print(windung,seite,x,y)\n",
    "                sum_umg=w(x-1,y)+w(x-1,y-1)+w(x,y-1)+w(x+1,y-1)+w(x+1,y)+w(x+1,y+1)+w(x,y+1)+w(x-1,y+1)\n",
    "                #print(sum_umg)\n",
    "                store(sum_umg,x,y)\n",
    "                if sum_umg>num:\n",
    "                    print (sum_umg)\n",
    "                    raise GetOutOfLoop\n",
    "except GetOutOfLoop:\n",
    "    pass\n",
    "\n",
    "#der erste Teil nochmal ohne viel Mathe, einfach rumschlängeln und mitzählen\n",
    "x=0\n",
    "y=0           \n",
    "windung=0\n",
    "wert=1\n",
    "while(windung<1000):\n",
    "    windung+=1\n",
    "    x+=1\n",
    "    y-=1\n",
    "    for seite in range(4):\n",
    "        for i in range(windung*2):\n",
    "            x=xf[seite](x)\n",
    "            y=yf[seite](y)\n",
    "            wert+=1\n",
    "            if wert==num:\n",
    "                print (x,y,abs(x)+abs(y))\n",
    "        \n",
    "\n",
    "\n"
   ]
  },
  {
   "cell_type": "code",
   "execution_count": 1,
   "metadata": {
    "collapsed": false
   },
   "outputs": [
    {
     "name": "stdout",
     "output_type": "stream",
     "text": [
      "386\n",
      "208\n"
     ]
    }
   ],
   "source": [
    "f=open(\"tag4.txt\",'r')\n",
    "sum=0\n",
    "for line in f:\n",
    "    unique={}\n",
    "    worte=line.split()\n",
    "    for wort in worte:\n",
    "        unique[wort]=1\n",
    "    if len(unique)==len(worte):\n",
    "        sum+=1\n",
    "print(sum)\n",
    "  \n",
    "f=open(\"tag4.txt\",'r')\n",
    "sum=0\n",
    "for line in f:\n",
    "    unique={}\n",
    "    worte=line.split()\n",
    "    for wort in worte:\n",
    "        unique[''.join(sorted(list(wort)))]=1\n",
    "    if len(unique)==len(worte):\n",
    "        sum+=1\n",
    "print(sum)\n",
    "  \n",
    "\n",
    "    "
   ]
  },
  {
   "cell_type": "code",
   "execution_count": 7,
   "metadata": {
    "collapsed": false
   },
   "outputs": [
    {
     "name": "stdout",
     "output_type": "stream",
     "text": [
      "343364\n",
      "25071947\n"
     ]
    }
   ],
   "source": [
    "f=open(\"tag5.txt\",'r')\n",
    "cells=[]\n",
    "for jump in f:\n",
    "    cells.append(int(jump))\n",
    "    \n",
    "len_c=len(cells)\n",
    "num_jumps=0\n",
    "pos=0\n",
    "while not (pos<0 or pos>=len_c):\n",
    "    cells[pos]+=1\n",
    "    pos+=cells[pos]-1\n",
    "    num_jumps+=1\n",
    "print(num_jumps)\n",
    "\n",
    "f=open(\"tag5.txt\",'r')\n",
    "cells=[]\n",
    "for jump in f:\n",
    "    cells.append(int(jump))\n",
    "    \n",
    "len_c=len(cells)\n",
    "num_jumps=0\n",
    "pos=0\n",
    "while not (pos<0 or pos>=len_c):\n",
    "    offset=cells[pos]\n",
    "    if offset>=3:\n",
    "        cells[pos]-=1\n",
    "    else:\n",
    "        cells[pos]+=1   \n",
    "    pos+=offset\n",
    "    num_jumps+=1\n",
    "print(num_jumps)\n",
    "    "
   ]
  }
 ],
 "metadata": {
  "anaconda-cloud": {},
  "kernelspec": {
   "display_name": "Python [conda root]",
   "language": "python",
   "name": "conda-root-py"
  },
  "language_info": {
   "codemirror_mode": {
    "name": "ipython",
    "version": 3
   },
   "file_extension": ".py",
   "mimetype": "text/x-python",
   "name": "python",
   "nbconvert_exporter": "python",
   "pygments_lexer": "ipython3",
   "version": "3.5.2"
  }
 },
 "nbformat": 4,
 "nbformat_minor": 1
}
